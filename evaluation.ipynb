{
 "cells": [
  {
   "cell_type": "code",
   "execution_count": 1,
   "id": "dbcc1005",
   "metadata": {},
   "outputs": [
    {
     "name": "stdout",
     "output_type": "stream",
     "text": [
      "logs/Cora/disjoint/10\n"
     ]
    }
   ],
   "source": [
    "import os\n",
    "import sys\n",
    "import inspect\n",
    "import os.path as osp\n",
    "\n",
    "dataset = 'Cora'\n",
    "mode = 'disjoint'\n",
    "num_clients = 10\n",
    "model_name = 'FedAvg'\n",
    "time = '20250405_175613'\n",
    "logs_dir = os.path.join('logs', dataset, mode, str(num_clients))\n",
    "\n",
    "def create_info(name, logs, viz):\n",
    "    return {\n",
    "        'name': name,\n",
    "        'logs': [osp.join(logs_dir, log) for log in logs],\n",
    "        'viz': viz,\n",
    "    }\n",
    "\n",
    "%matplotlib inline\n",
    "print(logs_dir)"
   ]
  },
  {
   "cell_type": "code",
   "execution_count": 2,
   "id": "5e61e4f4",
   "metadata": {},
   "outputs": [
    {
     "ename": "TypeError",
     "evalue": "create_info() missing 1 required positional argument: 'viz'",
     "output_type": "error",
     "traceback": [
      "\u001b[0;31m---------------------------------------------------------------------------\u001b[0m",
      "\u001b[0;31mTypeError\u001b[0m                                 Traceback (most recent call last)",
      "Cell \u001b[0;32mIn[2], line 4\u001b[0m\n\u001b[1;32m      2\u001b[0m target_acc \u001b[38;5;241m=\u001b[39m \u001b[38;5;241m80\u001b[39m\n\u001b[1;32m      3\u001b[0m interval_rnd \u001b[38;5;241m=\u001b[39m \u001b[38;5;241m20\u001b[39m\n\u001b[0;32m----> 4\u001b[0m models \u001b[38;5;241m=\u001b[39m [create_info(name\u001b[38;5;241m=\u001b[39m\u001b[38;5;124m'\u001b[39m\u001b[38;5;124mFedAvg\u001b[39m\u001b[38;5;124m'\u001b[39m,\n\u001b[1;32m      5\u001b[0m                       logs\u001b[38;5;241m=\u001b[39m[\u001b[38;5;124mf\u001b[39m\u001b[38;5;124m'\u001b[39m\u001b[38;5;132;01m{\u001b[39;00mtime\u001b[38;5;132;01m}\u001b[39;00m\u001b[38;5;124m_\u001b[39m\u001b[38;5;132;01m{\u001b[39;00mmodel_name\u001b[38;5;132;01m}\u001b[39;00m\u001b[38;5;124m'\u001b[39m])]\n",
      "\u001b[0;31mTypeError\u001b[0m: create_info() missing 1 required positional argument: 'viz'"
     ]
    }
   ],
   "source": [
    "upto = 100\n",
    "target_acc = 80\n",
    "interval_rnd = 20\n",
    "models = [create_info(name='FedAvg',\n",
    "                      logs=[f'{time}_{model_name}'])]\n"
   ]
  },
  {
   "cell_type": "code",
   "execution_count": null,
   "id": "06b8f209",
   "metadata": {},
   "outputs": [],
   "source": []
  }
 ],
 "metadata": {
  "kernelspec": {
   "display_name": "base",
   "language": "python",
   "name": "python3"
  },
  "language_info": {
   "codemirror_mode": {
    "name": "ipython",
    "version": 3
   },
   "file_extension": ".py",
   "mimetype": "text/x-python",
   "name": "python",
   "nbconvert_exporter": "python",
   "pygments_lexer": "ipython3",
   "version": "3.12.7"
  }
 },
 "nbformat": 4,
 "nbformat_minor": 5
}
